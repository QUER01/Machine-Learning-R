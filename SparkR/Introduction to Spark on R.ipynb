{
 "cells": [
  {
   "cell_type": "code",
   "execution_count": 1,
   "metadata": {
    "collapsed": false
   },
   "outputs": [
    {
     "name": "stderr",
     "output_type": "stream",
     "text": [
      "\n",
      "Attaching package: ‘dplyr’\n",
      "\n",
      "The following objects are masked from ‘package:stats’:\n",
      "\n",
      "    filter, lag\n",
      "\n",
      "The following objects are masked from ‘package:base’:\n",
      "\n",
      "    intersect, setdiff, setequal, union\n",
      "\n"
     ]
    },
    {
     "ename": "ERROR",
     "evalue": "Error in library(sparklyr): there is no package called ‘sparklyr’\n",
     "output_type": "error",
     "traceback": [
      "Error in library(sparklyr): there is no package called ‘sparklyr’\nTraceback:\n",
      "1. library(sparklyr)",
      "2. stop(txt, domain = NA)"
     ]
    }
   ],
   "source": [
    "library(dplyr)\n",
    "library(sparklyr)\n",
    "library(ggplot2)"
   ]
  },
  {
   "cell_type": "code",
   "execution_count": 2,
   "metadata": {
    "collapsed": false
   },
   "outputs": [
    {
     "ename": "ERROR",
     "evalue": "Error in eval(expr, envir, enclos): could not find function \"spark_connect\"\n",
     "output_type": "error",
     "traceback": "Error in eval(expr, envir, enclos): could not find function \"spark_connect\"\nTraceback:\n"
    }
   ],
   "source": [
    "sc <- spark_connect(master = \"local\")\n",
    "\n",
    "#load files into Spark\n",
    "iris_tbl <- copy_to(sc, iris)\n",
    "flights_tbl <- copy_to(sc, nycflights13::flights, \"flights\")\n",
    "mtcars_tbl <- copy_to(sc, mtcars)"
   ]
  },
  {
   "cell_type": "code",
   "execution_count": null,
   "metadata": {
    "collapsed": true
   },
   "outputs": [],
   "source": []
  }
 ],
 "metadata": {
  "kernelspec": {
   "display_name": "R",
   "language": "R",
   "name": "ir"
  },
  "language_info": {
   "codemirror_mode": "r",
   "file_extension": ".r",
   "mimetype": "text/x-r-source",
   "name": "R",
   "pygments_lexer": "r",
   "version": "3.3.1"
  }
 },
 "nbformat": 4,
 "nbformat_minor": 0
}
